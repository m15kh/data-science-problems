{
 "cells": [
  {
   "cell_type": "code",
   "execution_count": 100,
   "metadata": {},
   "outputs": [],
   "source": [
    "import pandas as pd\n",
    "import matplotlib.pyplot as plt\n",
    "import numpy as np"
   ]
  },
  {
   "cell_type": "code",
   "execution_count": 101,
   "metadata": {},
   "outputs": [],
   "source": [
    "data = pd.read_csv('train.csv')"
   ]
  },
  {
   "cell_type": "code",
   "execution_count": 102,
   "metadata": {},
   "outputs": [
    {
     "data": {
      "text/html": [
       "<div>\n",
       "<style scoped>\n",
       "    .dataframe tbody tr th:only-of-type {\n",
       "        vertical-align: middle;\n",
       "    }\n",
       "\n",
       "    .dataframe tbody tr th {\n",
       "        vertical-align: top;\n",
       "    }\n",
       "\n",
       "    .dataframe thead th {\n",
       "        text-align: right;\n",
       "    }\n",
       "</style>\n",
       "<table border=\"1\" class=\"dataframe\">\n",
       "  <thead>\n",
       "    <tr style=\"text-align: right;\">\n",
       "      <th></th>\n",
       "      <th>NUM OF CHILDREN</th>\n",
       "      <th>GOODS VALUE</th>\n",
       "      <th>DAYS TO BIRTH</th>\n",
       "      <th>DAYS TO EMPLOYED</th>\n",
       "      <th>NUM OF FAMILY MEMBERS</th>\n",
       "      <th>IS LIVE CITY NOT WORK CITY</th>\n",
       "      <th>TOTAL INCOME</th>\n",
       "    </tr>\n",
       "  </thead>\n",
       "  <tbody>\n",
       "    <tr>\n",
       "      <th>count</th>\n",
       "      <td>208302.000000</td>\n",
       "      <td>2.081070e+05</td>\n",
       "      <td>208302.000000</td>\n",
       "      <td>208302.000000</td>\n",
       "      <td>208301.000000</td>\n",
       "      <td>208302.000000</td>\n",
       "      <td>2.083020e+05</td>\n",
       "    </tr>\n",
       "    <tr>\n",
       "      <th>mean</th>\n",
       "      <td>0.420442</td>\n",
       "      <td>5.449267e+05</td>\n",
       "      <td>-16137.809589</td>\n",
       "      <td>66160.087815</td>\n",
       "      <td>2.127733</td>\n",
       "      <td>0.178486</td>\n",
       "      <td>1.687133e+05</td>\n",
       "    </tr>\n",
       "    <tr>\n",
       "      <th>std</th>\n",
       "      <td>0.729715</td>\n",
       "      <td>3.730544e+05</td>\n",
       "      <td>4378.609610</td>\n",
       "      <td>143236.664753</td>\n",
       "      <td>0.931701</td>\n",
       "      <td>0.382922</td>\n",
       "      <td>1.091529e+05</td>\n",
       "    </tr>\n",
       "    <tr>\n",
       "      <th>min</th>\n",
       "      <td>0.000000</td>\n",
       "      <td>4.500000e+04</td>\n",
       "      <td>-25229.000000</td>\n",
       "      <td>-17583.000000</td>\n",
       "      <td>1.000000</td>\n",
       "      <td>0.000000</td>\n",
       "      <td>2.610000e+04</td>\n",
       "    </tr>\n",
       "    <tr>\n",
       "      <th>25%</th>\n",
       "      <td>0.000000</td>\n",
       "      <td>2.385000e+05</td>\n",
       "      <td>-19816.000000</td>\n",
       "      <td>-2785.000000</td>\n",
       "      <td>2.000000</td>\n",
       "      <td>0.000000</td>\n",
       "      <td>1.125000e+05</td>\n",
       "    </tr>\n",
       "    <tr>\n",
       "      <th>50%</th>\n",
       "      <td>0.000000</td>\n",
       "      <td>4.500000e+05</td>\n",
       "      <td>-15876.000000</td>\n",
       "      <td>-1223.000000</td>\n",
       "      <td>2.000000</td>\n",
       "      <td>0.000000</td>\n",
       "      <td>1.485000e+05</td>\n",
       "    </tr>\n",
       "    <tr>\n",
       "      <th>75%</th>\n",
       "      <td>1.000000</td>\n",
       "      <td>6.885000e+05</td>\n",
       "      <td>-12495.250000</td>\n",
       "      <td>-274.000000</td>\n",
       "      <td>3.000000</td>\n",
       "      <td>0.000000</td>\n",
       "      <td>2.025000e+05</td>\n",
       "    </tr>\n",
       "    <tr>\n",
       "      <th>max</th>\n",
       "      <td>19.000000</td>\n",
       "      <td>4.050000e+06</td>\n",
       "      <td>-7673.000000</td>\n",
       "      <td>365243.000000</td>\n",
       "      <td>20.000000</td>\n",
       "      <td>1.000000</td>\n",
       "      <td>1.800009e+07</td>\n",
       "    </tr>\n",
       "  </tbody>\n",
       "</table>\n",
       "</div>"
      ],
      "text/plain": [
       "       NUM OF CHILDREN   GOODS VALUE  DAYS TO BIRTH  DAYS TO EMPLOYED  \\\n",
       "count    208302.000000  2.081070e+05  208302.000000     208302.000000   \n",
       "mean          0.420442  5.449267e+05  -16137.809589      66160.087815   \n",
       "std           0.729715  3.730544e+05    4378.609610     143236.664753   \n",
       "min           0.000000  4.500000e+04  -25229.000000     -17583.000000   \n",
       "25%           0.000000  2.385000e+05  -19816.000000      -2785.000000   \n",
       "50%           0.000000  4.500000e+05  -15876.000000      -1223.000000   \n",
       "75%           1.000000  6.885000e+05  -12495.250000       -274.000000   \n",
       "max          19.000000  4.050000e+06   -7673.000000     365243.000000   \n",
       "\n",
       "       NUM OF FAMILY MEMBERS  IS LIVE CITY NOT WORK CITY  TOTAL INCOME  \n",
       "count          208301.000000               208302.000000  2.083020e+05  \n",
       "mean                2.127733                    0.178486  1.687133e+05  \n",
       "std                 0.931701                    0.382922  1.091529e+05  \n",
       "min                 1.000000                    0.000000  2.610000e+04  \n",
       "25%                 2.000000                    0.000000  1.125000e+05  \n",
       "50%                 2.000000                    0.000000  1.485000e+05  \n",
       "75%                 3.000000                    0.000000  2.025000e+05  \n",
       "max                20.000000                    1.000000  1.800009e+07  "
      ]
     },
     "execution_count": 102,
     "metadata": {},
     "output_type": "execute_result"
    }
   ],
   "source": [
    "data.describe()"
   ]
  },
  {
   "cell_type": "code",
   "execution_count": 103,
   "metadata": {},
   "outputs": [
    {
     "name": "stdout",
     "output_type": "stream",
     "text": [
      "<class 'pandas.core.frame.DataFrame'>\n",
      "RangeIndex: 208302 entries, 0 to 208301\n",
      "Data columns (total 15 columns):\n",
      " #   Column                      Non-Null Count   Dtype  \n",
      "---  ------                      --------------   -----  \n",
      " 0   GENDER                      208302 non-null  object \n",
      " 1   OWN CAR                     208302 non-null  object \n",
      " 2   OWN REALTY                  208302 non-null  object \n",
      " 3   NUM OF CHILDREN             208302 non-null  int64  \n",
      " 4   GOODS VALUE                 208107 non-null  float64\n",
      " 5   INCOME TYPE                 208302 non-null  object \n",
      " 6   EDUCATION                   208302 non-null  object \n",
      " 7   FAMILY STATUS               208302 non-null  object \n",
      " 8   HOUSING TYPE                208302 non-null  object \n",
      " 9   DAYS TO BIRTH               208302 non-null  int64  \n",
      " 10  DAYS TO EMPLOYED            208302 non-null  int64  \n",
      " 11  NUM OF FAMILY MEMBERS       208301 non-null  float64\n",
      " 12  IS LIVE CITY NOT WORK CITY  208302 non-null  int64  \n",
      " 13  ORGANIZATION TYPE           208302 non-null  object \n",
      " 14  TOTAL INCOME                208302 non-null  float64\n",
      "dtypes: float64(3), int64(4), object(8)\n",
      "memory usage: 23.8+ MB\n"
     ]
    }
   ],
   "source": [
    "data.info()"
   ]
  },
  {
   "cell_type": "code",
   "execution_count": 104,
   "metadata": {},
   "outputs": [
    {
     "data": {
      "text/plain": [
       "array([[<AxesSubplot:title={'center':'NUM OF CHILDREN'}>,\n",
       "        <AxesSubplot:title={'center':'GOODS VALUE'}>,\n",
       "        <AxesSubplot:title={'center':'DAYS TO BIRTH'}>],\n",
       "       [<AxesSubplot:title={'center':'DAYS TO EMPLOYED'}>,\n",
       "        <AxesSubplot:title={'center':'NUM OF FAMILY MEMBERS'}>,\n",
       "        <AxesSubplot:title={'center':'IS LIVE CITY NOT WORK CITY'}>],\n",
       "       [<AxesSubplot:title={'center':'TOTAL INCOME'}>, <AxesSubplot:>,\n",
       "        <AxesSubplot:>]], dtype=object)"
      ]
     },
     "execution_count": 104,
     "metadata": {},
     "output_type": "execute_result"
    },
    {
     "data": {
      "image/png": "[encoded data removed]",
      "text/plain": [
       "<Figure size 1400x1000 with 9 Axes>"
      ]
     },
     "metadata": {},
     "output_type": "display_data"
    }
   ],
   "source": [
    "data.hist(bins =40, figsize=(14,10))"
   ]
  },
  {
   "cell_type": "code",
   "execution_count": 117,
   "metadata": {},
   "outputs": [],
   "source": [
    "from sklearn.impute import SimpleImputer\n",
    "imputer = SimpleImputer(strategy=\"median\")\n",
    "data_num = data.select_dtypes(include=[np.number])\n",
    "X = imputer.fit_transform(data_num)"
   ]
  },
  {
   "cell_type": "code",
   "execution_count": 114,
   "metadata": {},
   "outputs": [],
   "source": [
    "data_tr = pd.DataFrame(X, columns=data_num.columns, index=data_num.index)"
   ]
  },
  {
   "cell_type": "code",
   "execution_count": 115,
   "metadata": {},
   "outputs": [
    {
     "name": "stdout",
     "output_type": "stream",
     "text": [
      "<class 'pandas.core.frame.DataFrame'>\n",
      "RangeIndex: 208302 entries, 0 to 208301\n",
      "Data columns (total 7 columns):\n",
      " #   Column                      Non-Null Count   Dtype  \n",
      "---  ------                      --------------   -----  \n",
      " 0   NUM OF CHILDREN             208302 non-null  float64\n",
      " 1   GOODS VALUE                 208302 non-null  float64\n",
      " 2   DAYS TO BIRTH               208302 non-null  float64\n",
      " 3   DAYS TO EMPLOYED            208302 non-null  float64\n",
      " 4   NUM OF FAMILY MEMBERS       208302 non-null  float64\n",
      " 5   IS LIVE CITY NOT WORK CITY  208302 non-null  float64\n",
      " 6   TOTAL INCOME                208302 non-null  float64\n",
      "dtypes: float64(7)\n",
      "memory usage: 11.1 MB\n"
     ]
    }
   ],
   "source": [
    "data_tr.info()"
   ]
  },
  {
   "cell_type": "code",
   "execution_count": null,
   "metadata": {},
   "outputs": [
    {
     "data": {
      "text/plain": [
       "450000.0     17344\n",
       "225000.0     16964\n",
       "675000.0     16920\n",
       "900000.0     10715\n",
       "270000.0      7598\n",
       "             ...  \n",
       "478134.0         1\n",
       "98028.0          1\n",
       "1439248.5        1\n",
       "296671.5         1\n",
       "769909.5         1\n",
       "Name: GOODS VALUE, Length: 828, dtype: int64"
      ]
     },
     "execution_count": 89,
     "metadata": {},
     "output_type": "execute_result"
    }
   ],
   "source": [
    "data['GOODS VALUE'].value_counts()"
   ]
  },
  {
   "cell_type": "code",
   "execution_count": null,
   "metadata": {},
   "outputs": [
    {
     "data": {
      "text/plain": [
       "['GENDER',\n",
       " 'OWN CAR',\n",
       " 'OWN REALTY',\n",
       " 'NUM OF CHILDREN',\n",
       " 'GOODS VALUE',\n",
       " 'INCOME TYPE',\n",
       " 'EDUCATION',\n",
       " 'FAMILY STATUS',\n",
       " 'HOUSING TYPE',\n",
       " 'DAYS TO BIRTH',\n",
       " 'DAYS TO EMPLOYED',\n",
       " 'NUM OF FAMILY MEMBERS',\n",
       " 'IS LIVE CITY NOT WORK CITY',\n",
       " 'ORGANIZATION TYPE',\n",
       " 'TOTAL INCOME']"
      ]
     },
     "execution_count": 90,
     "metadata": {},
     "output_type": "execute_result"
    }
   ],
   "source": [
    "list(data.columns)"
   ]
  },
  {
   "cell_type": "code",
   "execution_count": null,
   "metadata": {},
   "outputs": [
    {
     "data": {
      "text/plain": [
       "F      136359\n",
       "M       71940\n",
       "XNA         3\n",
       "Name: GENDER, dtype: int64"
      ]
     },
     "execution_count": 91,
     "metadata": {},
     "output_type": "execute_result"
    }
   ],
   "source": [
    "data['GENDER'].value_counts()\n"
   ]
  },
  {
   "cell_type": "code",
   "execution_count": null,
   "metadata": {},
   "outputs": [
    {
     "data": {
      "text/plain": [
       "House / apartment      185188\n",
       "With parents             9788\n",
       "Municipal apartment      7562\n",
       "Rented apartment         3171\n",
       "Office apartment         1804\n",
       "Co-op apartment           789\n",
       "Name: HOUSING TYPE, dtype: int64"
      ]
     },
     "execution_count": 92,
     "metadata": {},
     "output_type": "execute_result"
    }
   ],
   "source": [
    "data[\"HOUSING TYPE\"].value_counts()"
   ]
  },
  {
   "cell_type": "code",
   "execution_count": null,
   "metadata": {},
   "outputs": [
    {
     "name": "stdout",
     "output_type": "stream",
     "text": [
      "\n",
      " value counts for #########-- GENDER --#########\n",
      "F      136359\n",
      "M       71940\n",
      "XNA         3\n",
      "Name: GENDER, dtype: int64\n",
      "\n",
      " value counts for #########-- OWN CAR --#########\n",
      "N    136502\n",
      "Y     71800\n",
      "Name: OWN CAR, dtype: int64\n",
      "\n",
      " value counts for #########-- OWN REALTY --#########\n",
      "Y    144533\n",
      "N     63769\n",
      "Name: OWN REALTY, dtype: int64\n",
      "\n",
      " value counts for #########-- NUM OF CHILDREN --#########\n",
      "0     145926\n",
      "1      40768\n",
      "2      18605\n",
      "3       2616\n",
      "4        295\n",
      "5         60\n",
      "6         17\n",
      "14         3\n",
      "7          3\n",
      "19         2\n",
      "12         2\n",
      "8          2\n",
      "11         1\n",
      "10         1\n",
      "9          1\n",
      "Name: NUM OF CHILDREN, dtype: int64\n",
      "\n",
      " value counts for #########-- GOODS VALUE --#########\n",
      "450000.0     17344\n",
      "225000.0     16964\n",
      "675000.0     16920\n",
      "900000.0     10715\n",
      "270000.0      7598\n",
      "             ...  \n",
      "478134.0         1\n",
      "98028.0          1\n",
      "1439248.5        1\n",
      "296671.5         1\n",
      "769909.5         1\n",
      "Name: GOODS VALUE, Length: 828, dtype: int64\n",
      "\n",
      " value counts for #########-- INCOME TYPE --#########\n",
      "Working                 106266\n",
      "Commercial associate     48132\n",
      "Pensioner                38848\n",
      "State servant            15019\n",
      "Unemployed                  13\n",
      "Student                     11\n",
      "Businessman                  9\n",
      "Maternity leave              4\n",
      "Name: INCOME TYPE, dtype: int64\n",
      "\n",
      " value counts for #########-- EDUCATION --#########\n",
      "Secondary / secondary special    147354\n",
      "Higher education                  51502\n",
      "Incomplete higher                  6784\n",
      "Lower secondary                    2546\n",
      "Academic degree                     116\n",
      "Name: EDUCATION, dtype: int64\n",
      "\n",
      " value counts for #########-- FAMILY STATUS --#########\n",
      "Married                 147329\n",
      "Single / not married     34158\n",
      "Separated                14727\n",
      "Widow                    12087\n",
      "Unknown                      1\n",
      "Name: FAMILY STATUS, dtype: int64\n",
      "\n",
      " value counts for #########-- HOUSING TYPE --#########\n",
      "House / apartment      185188\n",
      "With parents             9788\n",
      "Municipal apartment      7562\n",
      "Rented apartment         3171\n",
      "Office apartment         1804\n",
      "Co-op apartment           789\n",
      "Name: HOUSING TYPE, dtype: int64\n",
      "\n",
      " value counts for #########-- DAYS TO BIRTH --#########\n",
      "-10020    34\n",
      "-15565    34\n",
      "-13749    32\n",
      "-13217    32\n",
      "-15771    31\n",
      "          ..\n",
      "-23893     1\n",
      "-25152     1\n",
      "-8495      1\n",
      "-25080     1\n",
      "-24972     1\n",
      "Name: DAYS TO BIRTH, Length: 17388, dtype: int64\n",
      "\n",
      " value counts for #########-- DAYS TO EMPLOYED --#########\n",
      " 365243    38856\n",
      "-224         106\n",
      "-199         106\n",
      "-222          99\n",
      "-213          99\n",
      "           ...  \n",
      "-12851         1\n",
      "-10491         1\n",
      "-11266         1\n",
      "-10071         1\n",
      "-9455          1\n",
      "Name: DAYS TO EMPLOYED, Length: 11759, dtype: int64\n",
      "\n",
      " value counts for #########-- NUM OF FAMILY MEMBERS --#########\n",
      "2.0     103137\n",
      "1.0      50924\n",
      "3.0      34338\n",
      "4.0      17076\n",
      "5.0       2459\n",
      "6.0        278\n",
      "7.0         59\n",
      "8.0         15\n",
      "9.0          3\n",
      "10.0         3\n",
      "20.0         2\n",
      "16.0         2\n",
      "14.0         2\n",
      "15.0         1\n",
      "13.0         1\n",
      "12.0         1\n",
      "Name: NUM OF FAMILY MEMBERS, dtype: int64\n",
      "\n",
      " value counts for #########-- IS LIVE CITY NOT WORK CITY --#########\n",
      "0    171123\n",
      "1     37179\n",
      "Name: IS LIVE CITY NOT WORK CITY, dtype: int64\n",
      "\n",
      " value counts for #########-- ORGANIZATION TYPE --#########\n",
      "Business Entity Type 3    45270\n",
      "XNA                       38856\n",
      "Self-employed             25396\n",
      "Other                     11340\n",
      "Medicine                   7610\n",
      "Business Entity Type 2     7118\n",
      "Government                 7093\n",
      "School                     6188\n",
      "Trade: type 7              5170\n",
      "Kindergarten               4643\n",
      "Construction               4569\n",
      "Business Entity Type 1     4010\n",
      "Transport: type 4          3655\n",
      "Trade: type 3              2358\n",
      "Industry: type 9           2321\n",
      "Security                   2257\n",
      "Industry: type 3           2203\n",
      "Housing                    1995\n",
      "Military                   1832\n",
      "Industry: type 11          1790\n",
      "Bank                       1679\n",
      "Police                     1679\n",
      "Agriculture                1623\n",
      "Transport: type 2          1532\n",
      "Postal                     1446\n",
      "Security Ministries        1423\n",
      "Trade: type 2              1197\n",
      "Restaurant                 1176\n",
      "Services                   1053\n",
      "University                  924\n",
      "Industry: type 7            856\n",
      "Transport: type 3           786\n",
      "Industry: type 1            723\n",
      "Hotel                       652\n",
      "Electricity                 628\n",
      "Industry: type 4            569\n",
      "Trade: type 6               440\n",
      "Industry: type 5            394\n",
      "Insurance                   393\n",
      "Emergency                   393\n",
      "Telecom                     386\n",
      "Industry: type 2            309\n",
      "Advertising                 299\n",
      "Industry: type 12           259\n",
      "Realtor                     255\n",
      "Culture                     252\n",
      "Trade: type 1               227\n",
      "Mobile                      216\n",
      "Legal Services              208\n",
      "Cleaning                    160\n",
      "Transport: type 1           143\n",
      "Industry: type 6             76\n",
      "Industry: type 10            74\n",
      "Religion                     66\n",
      "Trade: type 4                42\n",
      "Trade: type 5                37\n",
      "Industry: type 13            34\n",
      "Industry: type 8             19\n",
      "Name: ORGANIZATION TYPE, dtype: int64\n",
      "\n",
      " value counts for #########-- TOTAL INCOME --#########\n",
      "135000.0     24029\n",
      "112500.0     20861\n",
      "157500.0     17802\n",
      "180000.0     16606\n",
      "90000.0      15333\n",
      "             ...  \n",
      "265581.0         1\n",
      "104202.0         1\n",
      "223807.5         1\n",
      "1305000.0        1\n",
      "374220.0         1\n",
      "Name: TOTAL INCOME, Length: 1894, dtype: int64\n"
     ]
    }
   ],
   "source": [
    "for column in data.columns:\n",
    "    print(f'\\n value counts for #########-- {column} --#########')\n",
    "    print(data[column].value_counts())"
   ]
  }
 ],
 "metadata": {
  "kernelspec": {
   "display_name": "tf",
   "language": "python",
   "name": "python3"
  },
  "language_info": {
   "codemirror_mode": {
    "name": "ipython",
    "version": 3
   },
   "file_extension": ".py",
   "mimetype": "text/x-python",
   "name": "python",
   "nbconvert_exporter": "python",
   "pygments_lexer": "ipython3",
   "version": "3.7.10"
  }
 },
 "nbformat": 4,
 "nbformat_minor": 2
}
